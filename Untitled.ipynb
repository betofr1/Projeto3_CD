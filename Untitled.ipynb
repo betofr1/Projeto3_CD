{
 "cells": [
  {
   "cell_type": "code",
   "execution_count": 537,
   "metadata": {
    "collapsed": true
   },
   "outputs": [],
   "source": [
    "#COLOCAR A PERGUNTA\n",
    "\n",
    "# EXPLICAR PASSO A PASSO \n",
    "\n",
    "# FAZER CONCLUSAO"
   ]
  },
  {
   "cell_type": "code",
   "execution_count": 1,
   "metadata": {
    "collapsed": true
   },
   "outputs": [],
   "source": [
    "import pandas as pd\n",
    "import matplotlib.pyplot as plt\n",
    "import seaborn as sns\n",
    "import sklearn.cluster as cluster\n",
    "from sklearn.cluster import KMeans\n",
    "import time\n",
    "import numpy as np\n",
    "%matplotlib inline\n"
   ]
  },
  {
   "cell_type": "markdown",
   "metadata": {},
   "source": [
    "## Pergunta:\n",
    "Qual seria uma possivel escalação do Real Madrid, com jogadores ao redor do mundo todo, que teria uma eficiência similar, mas com um preço inferior?\n",
    "\n",
    "Para descobrir isso criamos um código que ao darmos o nome de um jogador ele nos retorna um jogador similar porém mais barato.\n",
    "\n",
    "## Método:\n",
    "\n",
    "Primeiramente escolhemos um jogador, em seguida filtramos a dataset original somente com jogadores da mesma posição (goleiro,defesa, meio ou ataque). Depois usamos o método Kmeans para clusterizar os jogadores e entao pegamos o cluster do qual o jogador faz parte e desses o jogador mais barato."
   ]
  },
  {
   "cell_type": "code",
   "execution_count": 2,
   "metadata": {},
   "outputs": [],
   "source": [
    "tabela =  pd.read_csv('Dataset_fifa.csv',low_memory=False) # lendo a planilha\n",
    "\n"
   ]
  },
  {
   "cell_type": "code",
   "execution_count": 30,
   "metadata": {
    "collapsed": true
   },
   "outputs": [],
   "source": [
    "#ESCOLHER JOGADOR\n",
    "\n",
    "jogador = \"K. Navas\" #colocar aqui um jogador desejado\n",
    "\n",
    "posicao = tabela[\"Preferred Positions\"][tabela[\"Name\"] == jogador]\n"
   ]
  },
  {
   "cell_type": "code",
   "execution_count": 31,
   "metadata": {},
   "outputs": [],
   "source": [
    "#classificando variaveis\n",
    "\n",
    "defesa = [\"CB\",\"LB\",\"LCB\",\"LWB\",\"RB\",\"RCB\",\"RWB\"]\n",
    "ataque = [\"CF\",\"LF\",\"LW\",\"RF\",\"RS\",\"LS\",\"RW\",\"ST\"]\n",
    "meio = [\"CAM\",\"CDM\",\"CM\",\"LAM\",\"LCM\",\"LDM\",\"LM\",\"RAM\",\"RCM\",\"RDM\",\"RM\"]\n",
    "\n",
    "\n",
    "#criando tabelas para cada categoria\n",
    "\n",
    "def filtro_defesa(posicoes):\n",
    "    posicoes = posicoes.split(\" \")\n",
    "    for e in posicoes:\n",
    "        if e in defesa:\n",
    "            return True\n",
    "    return False\n",
    "\n",
    "tabela_defesa = tabela[tabela[\"Preferred Positions\"].apply(filtro_defesa)]\n",
    "\n",
    "def filtro_goleiro(posicoes):\n",
    "    posicoes = posicoes.split(\" \")\n",
    "    for e in posicoes:\n",
    "        if e == \"GK\":\n",
    "            return True\n",
    "    return False\n",
    "\n",
    "tabela_goleiro = tabela[tabela[\"Preferred Positions\"].apply(filtro_goleiro)]\n",
    "\n",
    "def filtro_meio(posicoes):\n",
    "    posicoes = posicoes.split(\" \")\n",
    "    for e in posicoes:\n",
    "        if e in meio:\n",
    "            return True\n",
    "    return False\n",
    "\n",
    "tabela_meio = tabela[tabela[\"Preferred Positions\"].apply(filtro_meio)]\n",
    "\n",
    "def filtro_ataque(posicoes):\n",
    "    posicoes = posicoes.split(\" \")\n",
    "    for e in posicoes:\n",
    "        if e in ataque:\n",
    "            return True\n",
    "    return False\n",
    "\n",
    "tabela_ataque= tabela[tabela[\"Preferred Positions\"].apply(filtro_ataque)]\n",
    "\n"
   ]
  },
  {
   "cell_type": "code",
   "execution_count": 32,
   "metadata": {},
   "outputs": [
    {
     "name": "stdout",
     "output_type": "stream",
     "text": [
      " A tabela a ser utilizada é de goleiros\n"
     ]
    }
   ],
   "source": [
    "# achando o dataset certo\n",
    "\n",
    "if tabela[tabela[\"Name\"] == jogador].equals((tabela_goleiro[tabela_goleiro[\"Name\"] == jogador])):\n",
    "    print(\" A tabela a ser utilizada é de goleiros\")\n",
    "    tabela_certa = tabela_goleiro\n",
    "\n",
    "if tabela[tabela[\"Name\"] == jogador].equals((tabela_defesa[tabela_defesa[\"Name\"] == jogador])):\n",
    "    print(\" A tabela a ser utilizada é de defesa\")\n",
    "    tabela_certa = tabela_defesa\n",
    "    \n",
    "if tabela[tabela[\"Name\"] == jogador].equals((tabela_meio[tabela_meio[\"Name\"] == jogador])):\n",
    "    print(\" A tabela a ser utilizada é de meio \")\n",
    "    tabela_certa = tabela_meio\n",
    "\n",
    "if tabela[tabela[\"Name\"] == jogador].equals((tabela_ataque[tabela_ataque[\"Name\"] == jogador])):\n",
    "    print(\" A tabela a ser utilizada é de ataque  \")\n",
    "    tabela_certa = tabela_ataque\n",
    "\n",
    "# eleminando variaveis inuteis porem mantendo a tabela original:\n",
    "\n",
    "colunas_a_apagar = [\"Unnamed: 0\",\"Photo\", \"Nationality\", \"Flag\", \"Club Logo\",\"Name\",\"Club\",\"ID\",\"Preferred Positions\",\"Value\",\"Wage\",'CAM', 'CB', 'CDM', 'CF', 'CM', 'ID',\n",
    "       'LAM', 'LB', 'LCB', 'LCM', 'LDM', 'LF', 'LM', 'LS', 'LW', 'LWB','RAM', 'RB', 'RCB', 'RCM', 'RDM', 'RF', 'RM',\n",
    "       'RS', 'RW', 'RWB', 'ST']\n",
    "\n",
    "tabela_certa1 = tabela_certa.drop(colunas_a_apagar, 1)\n",
    "tabela_certa1 = tabela_certa1.replace(\"€\",\"\",regex=True)\n",
    "tabela_certa1 = tabela_certa1.dropna()\n",
    "tabela_certa1 = tabela_certa1[tabela_certa.notnull()]\n",
    "\n",
    "# tranformando dataset em numerico:\n",
    "\n",
    "\n",
    "nao_numericos = tabela_certa1.columns[~((tabela_certa1.dtypes == np.dtype(\"float64\")) | (tabela_certa1.dtypes == np.dtype(\"int64\")))]\n",
    "\n",
    "\n",
    "for i in nao_numericos:\n",
    "\n",
    "    tabela_certa1 = tabela_certa1[tabela_certa1.loc[:, i].str.isnumeric()]\n",
    "    tabela_certa1.loc[:, i] = tabela_certa1.loc[:, i].astype(\"float\")\n"
   ]
  },
  {
   "cell_type": "code",
   "execution_count": 33,
   "metadata": {
    "collapsed": true
   },
   "outputs": [],
   "source": [
    "from sklearn.cluster import KMeans\n",
    "n = 50\n",
    "km = KMeans(n_clusters= n)\n",
    "dados = tabela_certa1._get_numeric_data().dropna(axis=1) # pegando so dados numericos e retirando NaN\n",
    "km.fit(dados) # funcao do cluster\n",
    "clusters = km.predict(dados) # criando os grupos\n"
   ]
  },
  {
   "cell_type": "code",
   "execution_count": 34,
   "metadata": {},
   "outputs": [
    {
     "name": "stdout",
     "output_type": "stream",
     "text": [
      "maximo 69\n",
      "4\n"
     ]
    }
   ],
   "source": [
    "#VENDO O TAMANHO DO MAIOR E MENOR CLUSTER PARA VALIDACAO \n",
    "\n",
    "lista =[]\n",
    "maximo = 0\n",
    "minimo = 100000 \n",
    "\n",
    "for i in range(0,n):\n",
    "    clusters == i\n",
    "    tamanho = len(tabela_certa1[clusters == i])\n",
    "    lista.append( \"cluster {0} = {1}\".format(i,tamanho))\n",
    "    \n",
    "    if tamanho > maximo: \n",
    "        maximo = tamanho \n",
    "    if tamanho < minimo:\n",
    "        minimo = tamanho\n",
    "        \n",
    "    \n",
    "    \n",
    "#print(lista)\n",
    "print(\"maximo\",maximo)\n",
    "print(minimo)\n",
    "\n",
    "\n",
    "#tabela_certa"
   ]
  },
  {
   "cell_type": "code",
   "execution_count": 35,
   "metadata": {},
   "outputs": [
    {
     "name": "stderr",
     "output_type": "stream",
     "text": [
      "C:\\Users\\betof\\Anaconda3\\lib\\site-packages\\ipykernel_launcher.py:3: UserWarning: Boolean Series key will be reindexed to match DataFrame index.\n",
      "  This is separate from the ipykernel package so we can avoid doing imports until\n"
     ]
    }
   ],
   "source": [
    "def numero_cluster(pessoa):\n",
    "    \n",
    "    indice = tabela_certa1[tabela_certa[\"Name\"] == pessoa].index[0]\n",
    "\n",
    "    grupo = clusters[indice] # pegando um jogador especifico e vendo em que grupo está (nesse caso um jogador aleatorio)\n",
    "\n",
    "    return grupo\n",
    "\n",
    "\n",
    "\n",
    "cluster_jogador = numero_cluster(jogador) # descobrindo o numero do cluster do jogador"
   ]
  },
  {
   "cell_type": "code",
   "execution_count": 36,
   "metadata": {
    "collapsed": true
   },
   "outputs": [],
   "source": [
    "# ATENCAO: RODAR SOMENTE UMA VEZ\n",
    "\n",
    "# Arrumando indices\n",
    "\n",
    "tabela_certa_idc = tabela_certa.loc[tabela_certa1.index,:]\n",
    "\n",
    "tabela_certa1 = tabela_certa1.reset_index()\n",
    "tabela_certa_idc = tabela_certa_idc.reset_index()\n"
   ]
  },
  {
   "cell_type": "code",
   "execution_count": 37,
   "metadata": {
    "collapsed": true
   },
   "outputs": [],
   "source": [
    "grupo = clusters == cluster_jogador\n",
    "\n",
    "lista_grupo = []\n",
    "\n",
    "\n",
    "for i in range(len(grupo)):\n",
    "    \n",
    "    if grupo[i] == True:\n",
    "        nome = tabela_certa_idc[\"Name\"][i]\n",
    "        lista_grupo.append(nome)\n",
    "        "
   ]
  },
  {
   "cell_type": "code",
   "execution_count": 38,
   "metadata": {},
   "outputs": [
    {
     "name": "stderr",
     "output_type": "stream",
     "text": [
      "C:\\Users\\betof\\Anaconda3\\lib\\site-packages\\ipykernel_launcher.py:10: SettingWithCopyWarning: \n",
      "A value is trying to be set on a copy of a slice from a DataFrame\n",
      "\n",
      "See the caveats in the documentation: http://pandas.pydata.org/pandas-docs/stable/indexing.html#indexing-view-versus-copy\n",
      "  # Remove the CWD from sys.path while we load stuff.\n"
     ]
    }
   ],
   "source": [
    "# ARRUMANDO OS DIGITOS DA COLUNA VALOR ( preço de compra do jogador)\n",
    "\n",
    "#CELULA MUITO PESADA, ESPERAR RODAR DEMORA UM POUCO (em torno de 2 min)\n",
    "\n",
    "tabela_certa_idc.Value = tabela_certa_idc.Value.replace(\"€\",\"\",regex=True)\n",
    "tabela_certa_idc.Value = tabela_certa_idc.Value.replace(\"K\",\"*1000\",regex=True)\n",
    "tabela_certa_idc.Value = tabela_certa_idc.Value.replace(\"M\",'*1000000',regex=True)\n",
    "\n",
    "for i in range(len(tabela_certa_idc)):\n",
    "    tabela_certa_idc[\"Value\"][i] = eval(tabela_certa_idc[\"Value\"][i])\n",
    "    \n",
    "tabela_certa_idc.loc[:, 'Value'] = tabela_certa_idc.loc[:, \"Value\"].astype(\"float\")\n"
   ]
  },
  {
   "cell_type": "code",
   "execution_count": 39,
   "metadata": {},
   "outputs": [],
   "source": [
    "mais_barato = 1e10\n",
    "nome_mais_barato = \"\"\n",
    "lista_ordem_preco = []\n",
    "\n",
    "for i in lista_grupo: \n",
    "    \n",
    "    if (((tabela_certa_idc[tabela_certa_idc[\"Name\"] == i]).Value.values)[0] <= mais_barato) == True:\n",
    "        #print(i)\n",
    "        mais_barato = (tabela_certa_idc[tabela_certa_idc[\"Name\"] == i].Value.values[0])\n",
    "        lista_ordem_preco.append(i)\n",
    "        nome_mais_barato = i\n",
    "    else:\n",
    "        pass      \n",
    "    # print(\"eee\")\n",
    "        \n",
    "        #mais_barato = (tabela_certa[tabela_certa[\"Name\"] == i].Value.values[0])\n",
    "        \n",
    "\n",
    "\n"
   ]
  },
  {
   "cell_type": "code",
   "execution_count": 40,
   "metadata": {},
   "outputs": [
    {
     "data": {
      "text/plain": [
       "['P. Čech', 'Diego López', 'T. Howard', 'M. Storari', 'A. Bizzarri']"
      ]
     },
     "execution_count": 40,
     "metadata": {},
     "output_type": "execute_result"
    }
   ],
   "source": [
    "# OBS - SO SERA UTILIZADO SE UM MESMO JOGADOR SUBSTITUA MAIS DE UM JOGADOR DO TIME DADO\n",
    "\n",
    "lista_ordem_preco"
   ]
  },
  {
   "cell_type": "code",
   "execution_count": 43,
   "metadata": {},
   "outputs": [
    {
     "name": "stdout",
     "output_type": "stream",
     "text": [
      "JOGADOR QUE O PROGRAMA ACHOU:\n",
      "\n",
      "O nome do jogador descoberto é:  A. Bizzarri\n",
      "\n",
      "Preço do jogador: €450K\n",
      "\n",
      "Overall do jogador:  75\n",
      "\n",
      "clube do jogador:  Udinese\n",
      "\n",
      "idade do jogador:  39\n",
      "\n",
      "posição do jogador:  GK \n",
      "\n",
      "\n",
      "JOGADOR A SER TROCADO:\n",
      "\n",
      "O nome do jogador é:  K. Navas\n",
      "\n",
      "Preço do jogador: €24.5M\n",
      "\n",
      "Overall do jogador:  85\n",
      "\n",
      "clube do jogador:  Real Madrid CF\n",
      "\n",
      "idade do jogador:  30\n",
      "\n",
      "posição do jogador:  GK \n",
      "\n"
     ]
    }
   ],
   "source": [
    "# INFORMACOES DO JOGADOR MAIS BARATO PROXIMO AO JOGADOR ESCOLHIDO \n",
    "\n",
    "\n",
    "\n",
    "print(\"JOGADOR QUE O PROGRAMA ACHOU:\")\n",
    "print(\"\")\n",
    "print(\"O nome do jogador descoberto é: \",nome_mais_barato)\n",
    "print(\"\")\n",
    "print(\"Preço do jogador:\",(tabela[tabela[\"Name\"] == nome_mais_barato].Value.values[0]))\n",
    "print(\"\")\n",
    "print(\"Overall do jogador: \",(tabela[tabela[\"Name\"] == nome_mais_barato].Overall.values[0]))\n",
    "print(\"\")\n",
    "print(\"clube do jogador: \",(tabela[tabela[\"Name\"] == nome_mais_barato].Club.values[0]))\n",
    "print(\"\")\n",
    "print(\"idade do jogador: \",(tabela[tabela[\"Name\"] == nome_mais_barato].Age.values[0]))\n",
    "print(\"\")\n",
    "print(\"posição do jogador: \",(tabela[tabela[\"Name\"] == nome_mais_barato][\"Preferred Positions\"].values[0]))\n",
    "print(\"\")\n",
    "\n",
    "print(\"\")\n",
    "print(\"JOGADOR A SER TROCADO:\")\n",
    "print(\"\")\n",
    "print(\"O nome do jogador é: \",jogador)\n",
    "print(\"\")\n",
    "print(\"Preço do jogador:\",(tabela[tabela[\"Name\"] == jogador].Value.values[0]))\n",
    "print(\"\")\n",
    "print(\"Overall do jogador: \",(tabela[tabela[\"Name\"] == jogador].Overall.values[0]))\n",
    "print(\"\")\n",
    "print(\"clube do jogador: \",(tabela[tabela[\"Name\"] == jogador].Club.values[0]))\n",
    "print(\"\")\n",
    "print(\"idade do jogador: \",(tabela[tabela[\"Name\"] == jogador].Age.values[0]))\n",
    "print(\"\")\n",
    "print(\"posição do jogador: \",(tabela[tabela[\"Name\"] == jogador][\"Preferred Positions\"].values[0]))\n",
    "print(\"\")\n"
   ]
  },
  {
   "cell_type": "markdown",
   "metadata": {
    "collapsed": true
   },
   "source": [
    "## Conclusão:\n",
    "\n",
    "Rodando o código a cima 11 vezes para os 11 jogadores titulares do Real Madrid no jogo e conseguimos 11 jogadores diferentes mais barato mas que teriam uma eficiência similar.\n",
    "\n",
    "Cristiano Ronaldo (€95.5M) - K. Boateng (€14.5M)\n",
    "\n",
    "K. Benzema (€44.5M) - R. Palacio (€4.8M)\n",
    "\n",
    "T. Kroos (€79M) - Adrien Silva (free agent(tava com preço = 0))\n",
    "\n",
    "L. Modrić (€57M) - A. Witsel (free agent(tava com preço = 0))\n",
    "\n",
    "Isco (€56.5M) - Renato Augusto (free agent(tava com preço = 0))\n",
    "\n",
    "Casemiro (€42M) - A. Candreva (€14M)\n",
    "\n",
    "Marcelo (€38M) - C. Maggio (€1.4M)\n",
    "\n",
    "Sergio Ramos(€52M) - D. Srna (€3.8M)\n",
    "\n",
    "Carvajal (€32M) - N. Bodurov (free agent(tava com preço = 0))\n",
    "\n",
    "R. Varane (€46.5M) - Dani Alves (€9M)\n",
    "\n",
    "K. Navas (€24.5M) - A. Bizzarri (€450K)"
   ]
  },
  {
   "cell_type": "code",
   "execution_count": null,
   "metadata": {
    "collapsed": true
   },
   "outputs": [],
   "source": []
  }
 ],
 "metadata": {
  "kernelspec": {
   "display_name": "Python 3",
   "language": "python",
   "name": "python3"
  },
  "language_info": {
   "codemirror_mode": {
    "name": "ipython",
    "version": 3
   },
   "file_extension": ".py",
   "mimetype": "text/x-python",
   "name": "python",
   "nbconvert_exporter": "python",
   "pygments_lexer": "ipython3",
   "version": "3.6.1"
  }
 },
 "nbformat": 4,
 "nbformat_minor": 2
}
