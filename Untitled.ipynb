{
 "cells": [
  {
   "cell_type": "code",
   "execution_count": 43,
   "metadata": {
    "collapsed": true
   },
   "outputs": [],
   "source": [
    "import pandas as pd\n",
    "import matplotlib.pyplot as plt\n",
    "import seaborn as sns\n",
    "import sklearn.cluster as cluster\n",
    "from sklearn.cluster import KMeans\n",
    "import time\n",
    "import numpy as np\n",
    "%matplotlib inline\n",
    "\n"
   ]
  },
  {
   "cell_type": "code",
   "execution_count": 92,
   "metadata": {
    "collapsed": true
   },
   "outputs": [],
   "source": [
    "tabela =  pd.read_csv('Dataset_fifa.csv',low_memory=False) # lendo a planilha"
   ]
  },
  {
   "cell_type": "code",
   "execution_count": 93,
   "metadata": {
    "collapsed": true
   },
   "outputs": [],
   "source": [
    "#ESCOLHER JOGADOR\n",
    "\n",
    "jogador = \"Cristiano Ronaldo\" # escolhendo um jogador"
   ]
  },
  {
   "cell_type": "code",
   "execution_count": 94,
   "metadata": {
    "collapsed": true
   },
   "outputs": [],
   "source": [
    "#tabela = tabela[tabela.Aggression.str.isnumeric()]"
   ]
  },
  {
   "cell_type": "code",
   "execution_count": 95,
   "metadata": {
    "collapsed": false
   },
   "outputs": [],
   "source": [
    "#tabela.columns[tabela.dtypes == np.dtype(\"float64\")]"
   ]
  },
  {
   "cell_type": "code",
   "execution_count": 114,
   "metadata": {
    "collapsed": false
   },
   "outputs": [],
   "source": [
    "tabela.columns\n",
    "\n",
    "colunas_a_apagar = [\"Photo\", \"Nationality\", \"Flag\", \"Club Logo\",\"Name\",\"Club\",\"ID\",\"Preferred Positions\",\"Value\",\"Wage\",'CAM', 'CB', 'CDM', 'CF', 'CM', 'ID',\n",
    "       'LAM', 'LB', 'LCB', 'LCM', 'LDM', 'LF', 'LM', 'LS', 'LW', 'LWB','RAM', 'RB', 'RCB', 'RCM', 'RDM', 'RF', 'RM',\n",
    "       'RS', 'RW', 'RWB', 'ST']\n",
    "\n",
    "tabela1 = tabela.drop(colunas_a_apagar, 1)\n",
    "tabela1 = tabela1.replace(\"€\",\"\",regex=True)\n",
    "tabela1 = tabela1.dropna()\n",
    "tabela1 = tabela1[tabela1.notnull()]\n",
    "\n",
    "posicao = tabela[\"Preferred Positions\"][tabela[\"Name\"] == jogador]\n",
    "defesa = [\"CB\",\"LB\",\"LCB\",\"LWB\",\"RB\",\"RCB\",\"RWB\"]\n",
    "ataque = [\"CF\",\"LF\",\"LW\",\"RF\",\"RS\",\"LS\",\"RW\",\"ST\"]\n",
    "meio = [\"CAM\",\"CDM\",\"CM\",\"LAM\",\"LCM\",\"LDM\",\"LM\",\"RAM\",\"RCM\",\"RDM\",\"RM\"]\n",
    "\n",
    "\n",
    "def filtro_defesa(posicoes):\n",
    "    posicoes = posicoes.split(\" \")\n",
    "    for e in posicoes:\n",
    "        if e in defesa:\n",
    "            return True\n",
    "    return False\n",
    "\n",
    "tabela_defesa = tabela[tabela[\"Preferred Positions\"].apply(filtro_defesa)]\n",
    "\n",
    "def filtro_goleiro(posicoes):\n",
    "    posicoes = posicoes.split(\" \")\n",
    "    for e in posicoes:\n",
    "        if e == \"GK\":\n",
    "            return True\n",
    "    return False\n",
    "\n",
    "tabela_goleiro = tabela[tabela[\"Preferred Positions\"].apply(filtro_goleiro)]\n",
    "\n",
    "def filtro_meio(posicoes):\n",
    "    posicoes = posicoes.split(\" \")\n",
    "    for e in posicoes:\n",
    "        if e in meio:\n",
    "            return True\n",
    "    return False\n",
    "\n",
    "tabela_meio = tabela[tabela[\"Preferred Positions\"].apply(filtro_meio)]\n",
    "\n",
    "def filtro_ataque(posicoes):\n",
    "    posicoes = posicoes.split(\" \")\n",
    "    for e in posicoes:\n",
    "        if e in ataque:\n",
    "            return True\n",
    "    return False\n",
    "\n",
    "tabela_ataque= tabela[tabela[\"Preferred Positions\"].apply(filtro_ataque)]\n",
    "\n",
    "nao_numericos = tabela1.columns[~((tabela1.dtypes == np.dtype(\"float64\")) | (tabela1.dtypes == np.dtype(\"int64\")))]\n",
    "\n",
    "\n",
    "for i in nao_numericos:\n",
    "\n",
    "    tabela1 = tabela1[tabela1.loc[:, i].str.isnumeric()]\n",
    "    tabela1.loc[:, i] = tabela1.loc[:, i].astype(\"float\")\n",
    "\n",
    "\n"
   ]
  },
  {
   "cell_type": "code",
   "execution_count": null,
   "metadata": {
    "collapsed": false
   },
   "outputs": [],
   "source": []
  },
  {
   "cell_type": "code",
   "execution_count": 90,
   "metadata": {
    "collapsed": false
   },
   "outputs": [
    {
     "data": {
      "text/plain": [
       "0    ST LW \n",
       "Name: Preferred Positions, dtype: object"
      ]
     },
     "execution_count": 90,
     "metadata": {},
     "output_type": "execute_result"
    }
   ],
   "source": [
    "posicao"
   ]
  },
  {
   "cell_type": "code",
   "execution_count": null,
   "metadata": {
    "collapsed": true
   },
   "outputs": [],
   "source": []
  },
  {
   "cell_type": "code",
   "execution_count": 48,
   "metadata": {
    "collapsed": true
   },
   "outputs": [],
   "source": [
    "from sklearn.cluster import KMeans\n",
    "n = 80\n",
    "km = KMeans(n_clusters= n)\n",
    "dados = tabela1._get_numeric_data().dropna(axis=1) # pegando so dados numericos e retirando NaN\n",
    "km.fit(dados) # funcao do cluster\n",
    "clusters = km.predict(dados) # criando os grupos\n"
   ]
  },
  {
   "cell_type": "code",
   "execution_count": 69,
   "metadata": {
    "collapsed": false
   },
   "outputs": [
    {
     "name": "stdout",
     "output_type": "stream",
     "text": [
      "Index(['Unnamed: 0', 'Name', 'Age', 'Photo', 'Nationality', 'Flag', 'Overall',\n",
      "       'Potential', 'Club', 'Club Logo', 'Value', 'Wage', 'Special',\n",
      "       'Acceleration', 'Aggression', 'Agility', 'Balance', 'Ball control',\n",
      "       'Composure', 'Crossing', 'Curve', 'Dribbling', 'Finishing',\n",
      "       'Free kick accuracy', 'GK diving', 'GK handling', 'GK kicking',\n",
      "       'GK positioning', 'GK reflexes', 'Heading accuracy', 'Interceptions',\n",
      "       'Jumping', 'Long passing', 'Long shots', 'Marking', 'Penalties',\n",
      "       'Positioning', 'Reactions', 'Short passing', 'Shot power',\n",
      "       'Sliding tackle', 'Sprint speed', 'Stamina', 'Standing tackle',\n",
      "       'Strength', 'Vision', 'Volleys', 'CAM', 'CB', 'CDM', 'CF', 'CM', 'ID',\n",
      "       'LAM', 'LB', 'LCB', 'LCM', 'LDM', 'LF', 'LM', 'LS', 'LW', 'LWB',\n",
      "       'Preferred Positions', 'RAM', 'RB', 'RCB', 'RCM', 'RDM', 'RF', 'RM',\n",
      "       'RS', 'RW', 'RWB', 'ST'],\n",
      "      dtype='object')\n"
     ]
    }
   ],
   "source": [
    "print(tabela.columns)"
   ]
  },
  {
   "cell_type": "code",
   "execution_count": 104,
   "metadata": {
    "collapsed": false
   },
   "outputs": [
    {
     "data": {
      "text/plain": [
       "0               ST LW \n",
       "1                  RW \n",
       "2                  LW \n",
       "3                  ST \n",
       "4                  GK \n",
       "5                  ST \n",
       "6                  GK \n",
       "7                  LW \n",
       "8              CDM CM \n",
       "9                  ST \n",
       "10                 CB \n",
       "11          RM CM CAM \n",
       "12                 GK \n",
       "13        RM LW ST LM \n",
       "14             CDM CM \n",
       "15                 RW \n",
       "16                 ST \n",
       "17                 CB \n",
       "18                 GK \n",
       "19             ST CAM \n",
       "20                 GK \n",
       "21           LW RW ST \n",
       "22         CDM CAM CM \n",
       "23                 ST \n",
       "24                 CB \n",
       "25                 CB \n",
       "26                 CB \n",
       "27                 CB \n",
       "28             RW CAM \n",
       "29                 GK \n",
       "             ...      \n",
       "17951              GK \n",
       "17952              CM \n",
       "17953           RB CM \n",
       "17954              LM \n",
       "17955              CM \n",
       "17956              CB \n",
       "17957              RB \n",
       "17958           CB RB \n",
       "17959          CAM ST \n",
       "17960             CAM \n",
       "17961              CB \n",
       "17962           CB LB \n",
       "17963              CM \n",
       "17964              CM \n",
       "17965              CM \n",
       "17966              CM \n",
       "17967              RB \n",
       "17968              CB \n",
       "17969              ST \n",
       "17970              CB \n",
       "17971        ST RM LM \n",
       "17972    CB LW LWB LB \n",
       "17973              CM \n",
       "17974              CB \n",
       "17975              CM \n",
       "17976              GK \n",
       "17977              GK \n",
       "17978              ST \n",
       "17979              CM \n",
       "17980           ST CB \n",
       "Name: Preferred Positions, Length: 17981, dtype: object"
      ]
     },
     "execution_count": 104,
     "metadata": {},
     "output_type": "execute_result"
    }
   ],
   "source": [
    "tabela[\"Preferred Positions\"]"
   ]
  },
  {
   "cell_type": "code",
   "execution_count": 50,
   "metadata": {
    "collapsed": false
   },
   "outputs": [
    {
     "data": {
      "text/plain": [
       "21"
      ]
     },
     "execution_count": 50,
     "metadata": {},
     "output_type": "execute_result"
    }
   ],
   "source": [
    "clusters[-1] # pegando um jogador especifico e vendo em que grupo está (nesse caso um jogador aleatorio)"
   ]
  },
  {
   "cell_type": "code",
   "execution_count": 51,
   "metadata": {
    "collapsed": true
   },
   "outputs": [],
   "source": [
    "#tabela[\"Name\"]"
   ]
  },
  {
   "cell_type": "code",
   "execution_count": 52,
   "metadata": {
    "collapsed": false
   },
   "outputs": [
    {
     "name": "stdout",
     "output_type": "stream",
     "text": [
      "maximo 256\n",
      "76\n"
     ]
    }
   ],
   "source": [
    "lista =[]\n",
    "maximo = 0\n",
    "minimo = 100000 \n",
    "\n",
    "for i in range(0,n):\n",
    "    clusters == i\n",
    "    tamanho = len(tabela1[clusters == i])\n",
    "    lista.append( \"cluster {0} = {1}\".format(i,tamanho))\n",
    "    \n",
    "    if tamanho > maximo: \n",
    "        maximo = tamanho \n",
    "    if tamanho < minimo:\n",
    "        minimo = tamanho\n",
    "        \n",
    "    \n",
    "    \n",
    "#print(lista)\n",
    "print(\"maximo\",maximo)\n",
    "print(minimo)\n",
    "\n",
    "\n",
    "#obs: reduzir numero de colunas para ajustar melhor os clusters\n",
    "\n",
    "# o que falta: pegar cada linha do dataset filtrado com o cluster desejado (comando acima para filtrar o dataset de acordo com o grupo), fazer distancia de todos os jogadores desses clusters para o jogador desejado ( soma dos numeros de cada coluna ao quadrado) e comparar os valores para ver qual outro jogador mais de aproxima desse.\n"
   ]
  },
  {
   "cell_type": "code",
   "execution_count": 56,
   "metadata": {
    "collapsed": false
   },
   "outputs": [
    {
     "name": "stderr",
     "output_type": "stream",
     "text": [
      "/Users/kevinliu8/anaconda/lib/python3.6/site-packages/ipykernel/__main__.py:3: UserWarning: Boolean Series key will be reindexed to match DataFrame index.\n",
      "  app.launch_new_instance()\n"
     ]
    }
   ],
   "source": [
    "def numero_cluster(pessoa):\n",
    "    \n",
    "    indice = tabela1[tabela[\"Name\"] == pessoa].index[0]\n",
    "\n",
    "    grupo = clusters[indice] # pegando um jogador especifico e vendo em que grupo está (nesse caso um jogador aleatorio)\n",
    "\n",
    "    return grupo\n",
    "\n",
    "\n",
    "\n",
    "cluster_jogador = numero_cluster(jogador) # escolhendo um jogador"
   ]
  },
  {
   "cell_type": "code",
   "execution_count": 57,
   "metadata": {
    "collapsed": true
   },
   "outputs": [],
   "source": [
    "#tabela"
   ]
  },
  {
   "cell_type": "code",
   "execution_count": 58,
   "metadata": {
    "collapsed": true
   },
   "outputs": [],
   "source": [
    "tabela3 = tabela.loc[tabela1.index,:]\n",
    "\n",
    "tabela1 = tabela1.reset_index()\n",
    "tabela3 = tabela3.reset_index()\n"
   ]
  },
  {
   "cell_type": "code",
   "execution_count": 59,
   "metadata": {
    "collapsed": true
   },
   "outputs": [],
   "source": [
    "#tabela3"
   ]
  },
  {
   "cell_type": "code",
   "execution_count": 60,
   "metadata": {
    "collapsed": false
   },
   "outputs": [
    {
     "name": "stdout",
     "output_type": "stream",
     "text": [
      "[ True  True  True ..., False False False]\n",
      "233\n"
     ]
    },
    {
     "data": {
      "text/plain": [
       "['Cristiano Ronaldo',\n",
       " 'L. Messi',\n",
       " 'Neymar',\n",
       " 'L. Suárez',\n",
       " 'R. Lewandowski',\n",
       " 'E. Hazard',\n",
       " 'T. Kroos',\n",
       " 'G. Higuaín',\n",
       " 'Sergio Ramos',\n",
       " 'K. De Bruyne',\n",
       " 'A. Sánchez',\n",
       " 'L. Modrić',\n",
       " 'G. Bale',\n",
       " 'S. Agüero',\n",
       " 'G. Chiellini',\n",
       " 'P. Dybala',\n",
       " 'A. Griezmann',\n",
       " 'Thiago',\n",
       " 'P. Aubameyang',\n",
       " 'L. Bonucci',\n",
       " 'J. Boateng',\n",
       " 'D. Godín',\n",
       " 'M. Hummels',\n",
       " 'M. Özil',\n",
       " 'Thiago Silva',\n",
       " 'Z. Ibrahimović',\n",
       " 'A. Robben',\n",
       " 'N. Kanté',\n",
       " 'M. Verratti',\n",
       " 'P. Pogba',\n",
       " 'C. Eriksen',\n",
       " 'A. Vidal',\n",
       " 'E. Cavani',\n",
       " 'Marcelo',\n",
       " 'M. Hamšík',\n",
       " 'I. Rakitić',\n",
       " 'David Silva',\n",
       " 'Piqué',\n",
       " 'Iniesta',\n",
       " 'H. Kane',\n",
       " 'J. Rodríguez',\n",
       " 'Isco',\n",
       " 'D. Alaba',\n",
       " 'R. Lukaku',\n",
       " 'Alex Sandro',\n",
       " 'T. Müller',\n",
       " 'Sergio Busquets',\n",
       " 'Coutinho',\n",
       " 'M. Reus',\n",
       " 'T. Alderweireld',\n",
       " 'David Luiz',\n",
       " 'Diego Costa',\n",
       " 'R. Nainggolan',\n",
       " 'Javi Martínez',\n",
       " 'D. Mertens',\n",
       " 'Sokratis',\n",
       " 'Miranda',\n",
       " 'K. Benzema',\n",
       " 'Cesc Fàbregas',\n",
       " 'F. Ribéry',\n",
       " 'Pepe',\n",
       " 'Y. Carrasco',\n",
       " 'R. Varane',\n",
       " 'Casemiro',\n",
       " 'L. Insigne',\n",
       " 'A. Lacazette',\n",
       " 'H. Mkhitaryan',\n",
       " 'Jordi Alba',\n",
       " 'I. Gündoğan',\n",
       " 'Azpilicueta',\n",
       " 'A. Di María',\n",
       " 'M. Pjanić',\n",
       " 'C. Marchisio',\n",
       " 'J. Vertonghen',\n",
       " 'B. Matuidi',\n",
       " 'Filipe Luís',\n",
       " 'V. Kompany',\n",
       " 'A. Barzagli',\n",
       " 'E. Bailly',\n",
       " 'Marco Asensio',\n",
       " 'Bernardo Silva',\n",
       " 'A. Laporte',\n",
       " 'D. Alli',\n",
       " 'S. Mané',\n",
       " 'Carvajal',\n",
       " 'J. Draxler',\n",
       " 'M. Icardi',\n",
       " 'Morata',\n",
       " 'Koke',\n",
       " 'S. Mustafi',\n",
       " 'Ander Herrera',\n",
       " 'K. Strootman',\n",
       " 'Pedro',\n",
       " 'Bruno',\n",
       " 'I. Perišić',\n",
       " 'E. Džeko',\n",
       " 'Willian',\n",
       " 'S. Khedira',\n",
       " 'Juan Mata',\n",
       " 'M. Benatia',\n",
       " 'D. Payet',\n",
       " 'Falcao',\n",
       " 'L. Koscielny',\n",
       " 'G. Cahill',\n",
       " 'Dani Alves',\n",
       " 'A. Gómez',\n",
       " 'Aduriz',\n",
       " 'K. Mbappé',\n",
       " 'O. Dembélé',\n",
       " 'N. Keïta',\n",
       " 'J. Giménez',\n",
       " 'T. Lemar',\n",
       " 'João Mário',\n",
       " 'Fabinho',\n",
       " 'M. Salah',\n",
       " 'A. Belotti',\n",
       " 'E. Forsberg',\n",
       " 'Marquinhos',\n",
       " 'William Carvalho',\n",
       " 'S. Umtiti',\n",
       " 'R. Mahrez',\n",
       " 'V. van Dijk',\n",
       " 'Roberto Firmino',\n",
       " 'Danilo Pereira',\n",
       " 'Vitolo',\n",
       " 'S. de Vrij',\n",
       " 'J. Matip',\n",
       " 'I. Gueye',\n",
       " 'Iago Aspas',\n",
       " 'N. Otamendi',\n",
       " 'N. Matić',\n",
       " 'J. Pastore',\n",
       " 'S. Kagawa',\n",
       " 'G. Bonaventura',\n",
       " 'B. Dost',\n",
       " 'K. Walker',\n",
       " 'Oscar',\n",
       " \"S. N'Zonzi\",\n",
       " 'M. Musacchio',\n",
       " 'O. Toprak',\n",
       " 'José Callejón',\n",
       " 'Adrien Silva',\n",
       " 'S. Giovinco',\n",
       " 'N. Gaitán',\n",
       " 'M. Mandžukić',\n",
       " 'A. Lallana',\n",
       " 'B. Höwedes',\n",
       " 'E. Banega',\n",
       " 'M. Schneiderlin',\n",
       " 'Jonas',\n",
       " 'K. Gameiro',\n",
       " 'L. Piszczek',\n",
       " 'E. Garay',\n",
       " 'Borja Valero',\n",
       " 'L. Perrin',\n",
       " 'L. Biglia',\n",
       " 'Juanfran',\n",
       " 'Santi Cazorla',\n",
       " 'J. Mascherano',\n",
       " 'W. Sneijder',\n",
       " 'Nani',\n",
       " 'D. De Rossi',\n",
       " 'Quaresma',\n",
       " 'Y. Touré',\n",
       " 'L. Sané',\n",
       " 'T. Bakayoko',\n",
       " 'C. Tolisso',\n",
       " 'I. Slimani',\n",
       " 'N. Fekir',\n",
       " 'J. Seri',\n",
       " 'K. Baldé Diao',\n",
       " 'F. Bernardeschi',\n",
       " 'T. Werner',\n",
       " 'André Gomes',\n",
       " 'L. Goretzka',\n",
       " 'Q. Promes',\n",
       " 'Lucas Vázquez',\n",
       " 'Saúl',\n",
       " 'C. Bacca',\n",
       " 'F. Vázquez',\n",
       " 'M. Kovačić',\n",
       " 'Manu Trigueros',\n",
       " 'A. Rüdiger',\n",
       " 'F. Thauvin',\n",
       " 'Iñigo Martínez',\n",
       " 'Roque Mesa',\n",
       " 'A. Florenzi',\n",
       " 'D. Klaassen',\n",
       " 'K. Bellarabi',\n",
       " 'R. Sterling',\n",
       " 'Suso',\n",
       " 'Deulofeu',\n",
       " 'E. Dier',\n",
       " 'M. Rojo',\n",
       " 'Lucas',\n",
       " 'H. Son',\n",
       " 'G. Xhaka',\n",
       " 'Jonathan Viera',\n",
       " 'Pizzi',\n",
       " 'Willian José',\n",
       " 'G. Medel',\n",
       " 'X. Shaqiri',\n",
       " 'J. Cuadrado',\n",
       " 'C. Immobile',\n",
       " 'Douglas Costa',\n",
       " 'N. Clyne',\n",
       " 'Iborra',\n",
       " 'V. Wanyama',\n",
       " 'Taison',\n",
       " 'Marlos',\n",
       " 'L. Stindl',\n",
       " 'M. Balotelli',\n",
       " 'A. Ramsey',\n",
       " 'G. Sigurðsson',\n",
       " 'Y. Brahimi',\n",
       " 'M. Arnautović',\n",
       " 'J. Henderson',\n",
       " 'M. Kruse',\n",
       " 'L. Fejsa',\n",
       " 'V. Ćorluka',\n",
       " 'G. Wijnaldum',\n",
       " 'O. Giroud',\n",
       " 'J. Hernández',\n",
       " 'Beñat',\n",
       " 'L. Bender',\n",
       " 'A. Witsel',\n",
       " 'Naldo',\n",
       " 'D. Rose',\n",
       " 'G. Castro',\n",
       " 'L. Baines',\n",
       " 'João Moutinho',\n",
       " 'A. Turan',\n",
       " 'Fernandinho']"
      ]
     },
     "execution_count": 60,
     "metadata": {},
     "output_type": "execute_result"
    }
   ],
   "source": [
    "grupo = clusters == cluster_jogador\n",
    "\n",
    "print(grupo)\n",
    "lista_grupo = []\n",
    "\n",
    "\n",
    "for i in range(len(grupo)):\n",
    "    \n",
    "    if grupo[i] == True:\n",
    "        nome = tabela3[\"Name\"][i]\n",
    "        lista_grupo.append(nome)\n",
    "        \n",
    "print(len(lista_grupo))\n",
    "lista_grupo"
   ]
  },
  {
   "cell_type": "code",
   "execution_count": 61,
   "metadata": {
    "collapsed": false
   },
   "outputs": [
    {
     "name": "stdout",
     "output_type": "stream",
     "text": [
      "[5337494.0, 5000640.0, 4747895.0, 5608151.0, 4932993.0, 4730284.0, 5043282.0, 4147386.0, 4973501.0, 5021256.0, 5100554.0, 5330772.0, 5492363.0, 4627194.0, 3758241.0, 4585701.0, 4755580.0, 5128222.0, 4641832.0, 4291357.0, 4264732.0, 4014575.0, 4474233.0, 4009832.0, 4843212.0, 4630132.0, 4660795.0, 4990673.0, 4991165.0, 5380875.0, 4589766.0, 5574861.0, 4721577.0, 5245811.0, 5129734.0, 4873105.0, 4224246.0, 4201858.0, 4635873.0, 4546721.0, 4816939.0, 4771169.0, 5563503.0, 4290396.0, 5231608.0, 4645720.0, 4312643.0, 4521373.0, 4997599.0, 4504434.0, 4836012.0, 4238115.0, 5611723.0, 4196123.0, 4466158.0, 3836378.0, 3859206.0, 4108110.0, 4826802.0, 4174314.0, 3653576.0, 4274608.0, 3802676.0, 4913809.0, 4108591.0, 4582974.0, 4963781.0, 5231120.0, 4969464.0, 4746736.0, 4813073.0, 5077884.0, 5259850.0, 4655459.0, 5078452.0, 4907528.0, 3953389.0, 3331498.0, 3860774.0, 4312465.0, 4375697.0, 3982031.0, 4860913.0, 4512709.0, 4490310.0, 4395124.0, 3771576.0, 3767459.0, 4887361.0, 4074503.0, 5277006.0, 5059484.0, 4272704.0, 4586346.0, 4660626.0, 3761747.0, 4593053.0, 5025539.0, 4255543.0, 3394003.0, 4656719.0, 4365876.0, 3783011.0, 3674050.0, 5258452.0, 4392891.0, 4272481.0, 4549937.0, 4205284.0, 4579171.0, 3371289.0, 5085168.0, 4766787.0, 4841137.0, 4473923.0, 4059536.0, 4126082.0, 3813317.0, 4211706.0, 4802242.0, 4070770.0, 4383333.0, 4780808.0, 4472798.0, 4268503.0, 3479716.0, 3874224.0, 4550691.0, 4392368.0, 3869859.0, 4870630.0, 4637832.0, 3838229.0, 5223008.0, 3583417.0, 5066732.0, 4189345.0, 4499962.0, 4008285.0, 3796920.0, 4300544.0, 5127398.0, 4204632.0, 4381798.0, 4809050.0, 4976921.0, 3794400.0, 4732953.0, 4703801.0, 4388743.0, 4531921.0, 4989176.0, 4156268.0, 4759563.0, 4561013.0, 4929524.0, 4714413.0, 4896044.0, 4305711.0, 4273005.0, 4165535.0, 4867598.0, 4215220.0, 5085889.0, 4382204.0, 4272746.0, 5290660.0, 4324603.0, 4422809.0, 5169048.0, 4091880.0, 4362679.0, 3978443.0, 4766010.0, 5270110.0, 4395022.0, 4413587.0, 4803908.0, 3864651.0, 4362548.0, 4631529.0, 4905843.0, 3735100.0, 4258145.0, 4224508.0, 4452263.0, 5594063.0, 4873842.0, 4255753.0, 4238927.0, 4042430.0, 4178794.0, 4593239.0, 4588233.0, 4611668.0, 4304722.0, 4387544.0, 4842647.0, 5137553.0, 4085989.0, 4470060.0, 4727048.0, 4899401.0, 4196645.0, 4481725.0, 4669333.0, 4692641.0, 4869240.0, 4616459.0, 4683928.0, 5189836.0, 3965090.0, 4927096.0, 4842394.0, 4309872.0, 4834687.0, 5244704.0, 4666170.0, 4192231.0, 4111514.0, 5176558.0, 4160033.0, 4095010.0, 4902170.0, 4617919.0, 5081897.0, 4237668.0, 4962072.0, 5144079.0, 5395517.0, 5306904.0, 5086313.0, 5129178.0]\n",
      "5337494.0\n"
     ]
    }
   ],
   "source": [
    "lista_distancia = [] \n",
    "\n",
    "valores_jogador = tabela1.values[tabela3[\"Name\"] == jogador]\n",
    "\n",
    "distancia_jogador = 0 \n",
    "\n",
    "for i in range(66): #numero de colunas\n",
    "       \n",
    "        distancia_jogador += valores_jogador[0][i]**2\n",
    "\n",
    "for e in lista_grupo:\n",
    "    \n",
    "    valores = tabela1.values[tabela3[\"Name\"] == e]\n",
    "    #print(valores)\n",
    "    distancia = 0\n",
    "    for i in range(66): #numero de colunas\n",
    "        #print(valores[i])\n",
    "\n",
    "        distancia += valores[0][i]**2\n",
    "        \n",
    "    lista_distancia.append(distancia)\n",
    "        \n",
    "# falta comparar as distancias com a distancia do jogador desejado \n",
    "# falta transformar dataset para float\n",
    "\n",
    "\n",
    "        \n",
    "#tabela1\n",
    "\n",
    "print(lista_distancia) # temos as distancias de todos os jogadores a origem do plano \n",
    "\n",
    "print(distancia_jogador) # temos a distancia do jogador a origem \n",
    "\n",
    "\n",
    "#FALTA: comparar as distancias de cada jogador a do jogador desejado e pegar a menor\n",
    "\n",
    "#print(len(lista_distancia))"
   ]
  },
  {
   "cell_type": "code",
   "execution_count": null,
   "metadata": {
    "collapsed": true
   },
   "outputs": [],
   "source": []
  },
  {
   "cell_type": "code",
   "execution_count": null,
   "metadata": {
    "collapsed": true
   },
   "outputs": [],
   "source": []
  },
  {
   "cell_type": "code",
   "execution_count": null,
   "metadata": {
    "collapsed": true
   },
   "outputs": [],
   "source": []
  },
  {
   "cell_type": "code",
   "execution_count": 66,
   "metadata": {
    "collapsed": false,
    "scrolled": true
   },
   "outputs": [
    {
     "name": "stdout",
     "output_type": "stream",
     "text": [
      "['Cristiano Ronaldo', 5337494.0, 'L. Messi', 5000640.0, 'L. Suárez', 5608151.0, 'R. Lewandowski', 4932993.0, 'T. Kroos', 5043282.0, 'G. Bale', 5492363.0, 'S. Agüero', 4627194.0, 'Thiago', 5128222.0, 'P. Aubameyang', 4641832.0, 'L. Bonucci', 4291357.0, 'J. Boateng', 4264732.0, 'M. Hummels', 4474233.0, 'Thiago Silva', 4843212.0, 'P. Pogba', 5380875.0, 'A. Vidal', 5574861.0, 'Marcelo', 5245811.0, 'M. Hamšík', 5129734.0, 'I. Rakitić', 4873105.0, 'David Silva', 4224246.0, 'Iniesta', 4635873.0, 'J. Rodríguez', 4816939.0, 'D. Alaba', 5563503.0, 'Alex Sandro', 5231608.0, 'T. Müller', 4645720.0, 'M. Reus', 4997599.0, 'David Luiz', 4836012.0, 'R. Nainggolan', 5611723.0, 'D. Mertens', 4466158.0, 'Cesc Fàbregas', 4826802.0, 'F. Ribéry', 4174314.0, 'Y. Carrasco', 4274608.0, 'Casemiro', 4913809.0, 'Jordi Alba', 5231120.0, 'I. Gündoğan', 4969464.0, 'C. Marchisio', 5259850.0, 'B. Matuidi', 5078452.0, 'Filipe Luís', 4907528.0, 'V. Kompany', 3953389.0, 'Bernardo Silva', 4375697.0, 'D. Alli', 4860913.0, 'S. Mané', 4512709.0, 'Carvajal', 4490310.0, 'J. Draxler', 4395124.0, 'M. Icardi', 3771576.0, 'Koke', 4887361.0, 'Ander Herrera', 5277006.0, 'K. Strootman', 5059484.0, 'I. Perišić', 4660626.0, 'S. Khedira', 5025539.0, 'Juan Mata', 4255543.0, 'D. Payet', 4656719.0, 'Falcao', 4365876.0, 'L. Koscielny', 3783011.0, 'Dani Alves', 5258452.0, 'A. Gómez', 4392891.0, 'K. Mbappé', 4549937.0, 'N. Keïta', 4579171.0, 'T. Lemar', 5085168.0, 'Fabinho', 4841137.0, 'M. Salah', 4473923.0, 'E. Forsberg', 4126082.0, 'S. Umtiti', 4802242.0, 'Roberto Firmino', 4780808.0, 'Danilo Pereira', 4472798.0, 'Vitolo', 4268503.0, 'I. Gueye', 4550691.0, 'Iago Aspas', 4392368.0, 'N. Matić', 4870630.0, 'J. Pastore', 4637832.0, 'G. Bonaventura', 5223008.0, 'K. Walker', 5066732.0, \"S. N'Zonzi\", 4499962.0, 'M. Musacchio', 4008285.0, 'Adrien Silva', 5127398.0, 'A. Lallana', 4976921.0, 'E. Banega', 4732953.0, 'M. Schneiderlin', 4703801.0, 'L. Piszczek', 4989176.0, 'Borja Valero', 4759563.0, 'L. Biglia', 4929524.0, 'Santi Cazorla', 4896044.0, 'J. Mascherano', 4305711.0, 'W. Sneijder', 4273005.0, 'D. De Rossi', 4867598.0, 'Y. Touré', 5085889.0, 'L. Sané', 4382204.0, 'C. Tolisso', 5290660.0, 'J. Seri', 5169048.0, 'F. Bernardeschi', 4362679.0, 'L. Goretzka', 5270110.0, 'Saúl', 4803908.0, 'Manu Trigueros', 4905843.0, 'F. Thauvin', 4258145.0, 'A. Florenzi', 5594063.0, 'D. Klaassen', 4873842.0, 'K. Bellarabi', 4255753.0, 'R. Sterling', 4238927.0, 'E. Dier', 4593239.0, 'Lucas', 4611668.0, 'Pizzi', 5137553.0, 'J. Cuadrado', 4899401.0, 'V. Wanyama', 4869240.0, 'L. Stindl', 5189836.0, 'A. Ramsey', 4927096.0, 'G. Sigurðsson', 4842394.0, 'J. Henderson', 5244704.0, 'M. Kruse', 4666170.0, 'L. Fejsa', 4192231.0, 'G. Wijnaldum', 5176558.0, 'O. Giroud', 4160033.0, 'Beñat', 4902170.0, 'A. Witsel', 5081897.0, 'L. Baines', 5395517.0, 'João Moutinho', 5306904.0]\n"
     ]
    },
    {
     "data": {
      "text/plain": [
       "228"
      ]
     },
     "execution_count": 66,
     "metadata": {},
     "output_type": "execute_result"
    }
   ],
   "source": [
    "lista2 = []\n",
    "for i in range(len(lista_distancia)-1):\n",
    "    x = distancia_jogador\n",
    "    if x -lista_distancia[i-1] < x - lista_distancia[i]:\n",
    "        lista2.append(lista_grupo[i-1])\n",
    "        lista2.append(lista_distancia[i-1])\n",
    "    else:\n",
    "        pass\n",
    "print(lista2)\n",
    "len(lista2)"
   ]
  },
  {
   "cell_type": "code",
   "execution_count": 63,
   "metadata": {
    "collapsed": false
   },
   "outputs": [
    {
     "data": {
      "text/plain": [
       "3331498.0"
      ]
     },
     "execution_count": 63,
     "metadata": {},
     "output_type": "execute_result"
    }
   ],
   "source": [
    "min(lista_distancia)"
   ]
  },
  {
   "cell_type": "code",
   "execution_count": null,
   "metadata": {
    "collapsed": true
   },
   "outputs": [],
   "source": []
  },
  {
   "cell_type": "code",
   "execution_count": null,
   "metadata": {
    "collapsed": true
   },
   "outputs": [],
   "source": []
  }
 ],
 "metadata": {
  "kernelspec": {
   "display_name": "Python 3",
   "language": "python",
   "name": "python3"
  },
  "language_info": {
   "codemirror_mode": {
    "name": "ipython",
    "version": 3
   },
   "file_extension": ".py",
   "mimetype": "text/x-python",
   "name": "python",
   "nbconvert_exporter": "python",
   "pygments_lexer": "ipython3",
   "version": "3.6.0"
  }
 },
 "nbformat": 4,
 "nbformat_minor": 2
}
